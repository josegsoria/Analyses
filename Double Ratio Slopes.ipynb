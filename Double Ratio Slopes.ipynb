{
 "cells": [
  {
   "cell_type": "code",
   "execution_count": 1,
   "metadata": {},
   "outputs": [
    {
     "data": {
      "application/javascript": [
       "require(['codemirror/mode/clike/clike'], function(Clike) { console.log('ROOTaaS - C++ CodeMirror module loaded'); });"
      ]
     },
     "metadata": {},
     "output_type": "display_data"
    },
    {
     "data": {
      "application/javascript": [
       "IPython.CodeCell.config_defaults.highlight_modes['magic_text/x-c++src'] = {'reg':[/^%%cpp/]};"
      ]
     },
     "metadata": {},
     "output_type": "display_data"
    },
    {
     "name": "stdout",
     "output_type": "stream",
     "text": [
      "Welcome to ROOTaaS 6.06/06\n"
     ]
    }
   ],
   "source": [
    "from array import array\n",
    "import itertools\n",
    "import time\n",
    "import scipy \n",
    "from scipy import stats\n",
    "import matplotlib.pyplot as plt\n",
    "import numpy as np\n",
    "import pandas as pd\n",
    "import os.path\n",
    "from matplotlib.ticker import NullFormatter\n",
    "\n",
    "from scipy.optimize import curve_fit\n",
    "\n",
    "#This line is important. On this server I don't know if we have the ability to output plots. This is a solution.\n",
    "\n",
    "%matplotlib inline\n",
    "\n",
    "#Importing root_pandas and root_numpy.\n",
    "\n",
    "import sys\n",
    "sys.path.insert(0,'/usr/common/software/rootpy/')\n",
    "import root_numpy\n",
    "import root_pandas as rpd\n",
    "import ROOT\n",
    "from root_pandas import read_root"
   ]
  },
  {
   "cell_type": "code",
   "execution_count": 2,
   "metadata": {},
   "outputs": [],
   "source": [
    "def getWeights(filename,dataframe):\n",
    "    \n",
    "    if('Skimmed_17g6a1_pthat1' in filename):\n",
    "        dataframe.eval('weights = 1.60*10**(-11)',inplace=True)\n",
    "    elif('Skimmed_17g6a1_pthat2' in filename):\n",
    "        dataframe.eval('weights = 2.72*10**(-12)',inplace=True)\n",
    "    elif('Skimmed_17g6a1_pthat3' in filename):\n",
    "        dataframe.eval('weights = 3.69*10**(-13)',inplace=True)\n",
    "    elif('Skimmed_17g6a1_pthat4' in filename):\n",
    "        dataframe.eval('weights = 6.14*10**(-14)',inplace=True)\n",
    "    elif('Skimmed_17g6a1_pthat5' in filename):\n",
    "        dataframe.eval('weights = 1.27*10**(-14)',inplace=True)\n",
    "    \n",
    "    elif('Skimmed_17g6a3_pthat1' in filename):\n",
    "        dataframe.eval('weights = 4.47*10**(-11)',inplace=True)\n",
    "    elif('Skimmed_17g6a3_pthat2' in filename):\n",
    "        dataframe.eval('weights = 9.83*10**(-11)',inplace=True)\n",
    "    elif('Skimmed_17g6a3_pthat3' in filename):\n",
    "        dataframe.eval('weights = 1.04*10**(-10)',inplace=True)\n",
    "    elif('Skimmed_17g6a3_pthat4' in filename):\n",
    "        dataframe.eval('weights = 1.01*10**(-10)',inplace=True)\n",
    "    elif('Skimmed_17g6a3_pthat5' in filename):\n",
    "        dataframe.eval('weights = 6.93*10**(-11)',inplace=True)\n",
    "    elif('Skimmed_17g6a3_pthat6' in filename):\n",
    "        dataframe.eval('weights = 5.13*10**(-11)',inplace=True)\n",
    "    elif('Skimmed_17g6a3_pthat7' in filename):\n",
    "        dataframe.eval('weights = 3.03*10**(-11)',inplace=True)\n",
    "    elif('Skimmed_17g6a3_pthat8' in filename):\n",
    "        dataframe.eval('weights = 1.89*10**(-11)',inplace=True)\n",
    "    \n",
    "    else:\n",
    "        dataframe.eval('weights = eg_cross_section/eg_ntrial',inplace=True)\n",
    "        \n",
    "    return dataframe"
   ]
  },
  {
   "cell_type": "code",
   "execution_count": 3,
   "metadata": {},
   "outputs": [],
   "source": [
    "def getCluster04(inputFiles):\n",
    "    \n",
    "    scalarColumns = []\n",
    "    scalarColumns.append('eg_cross_section')\n",
    "    scalarColumns.append('eg_ntrial')\n",
    "    scalarColumns.append('ue_estimate_its_const')\n",
    "\n",
    "    arrayColumns = []\n",
    "    arrayColumns.append('cluster_pt')\n",
    "    arrayColumns.append('cluster_eta')\n",
    "    arrayColumns.append('cluster_ncell')\n",
    "    arrayColumns.append('cluster_e_cross')\n",
    "    arrayColumns.append('cluster_e')\n",
    "    arrayColumns.append('cluster_e_max')\n",
    "    arrayColumns.append('cluster_tof')\n",
    "    arrayColumns.append('cluster_nlocal_maxima')\n",
    "    arrayColumns.append('cluster_distance_to_bad_channel')\n",
    "    arrayColumns.append('cluster_iso_its_04')\n",
    "    arrayColumns.append('cluster_iso_its_04_ue')\n",
    "    arrayColumns.append('cluster_iso_04_truth')\n",
    "    arrayColumns.append('cluster_NN1')\n",
    "    arrayColumns.append('cluster_Lambda')\n",
    "    \n",
    "    arrayColumns.append('cluster_Lambda_angle')\n",
    "\n",
    "    columns = scalarColumns + arrayColumns\n",
    "\n",
    "    dfs = []\n",
    "    for inputFile in inputFiles:\n",
    "        start = time.time()\n",
    "        filename = os.path.basename(inputFile)\n",
    "        dataframe = rpd.read_root(inputFile, columns=columns, flatten=arrayColumns)\n",
    "        end = time.time()\n",
    "        getWeights(filename,dataframe)\n",
    "        print 'Processed {0} in {1} seconds'.format(filename, end - start)\n",
    "        dfs.append(dataframe)\n",
    "\n",
    "    return pd.concat(dfs).drop_duplicates().reset_index(drop=True)"
   ]
  },
  {
   "cell_type": "code",
   "execution_count": 4,
   "metadata": {},
   "outputs": [
    {
     "name": "stdout",
     "output_type": "stream",
     "text": [
      "Processed Skimmed_13def_ptmin12.0_Nevent_1416399.root in 57.4068379402 seconds\n",
      "Processed Skimmed_17g6a3_pthat1_ptmin12.0_Nevent_1143901.root in 2.93272280693 seconds\n",
      "Processed Skimmed_17g6a3_pthat2_ptmin12.0_Nevent_1992307.root in 11.062584877 seconds\n",
      "Processed Skimmed_17g6a3_pthat3_ptmin12.0_Nevent_4123564.root in 40.6554288864 seconds\n",
      "Processed Skimmed_17g6a3_pthat4_ptmin12.0_Nevent_2234506.root in 35.976858139 seconds\n",
      "Processed Skimmed_17g6a3_pthat5_ptmin12.0_Nevent_1903308.root in 49.9434330463 seconds\n",
      "Processed Skimmed_17g6a3_pthat6_ptmin12.0_Nevent_1875403.root in 62.942358017 seconds\n",
      "Processed Skimmed_17g6a3_pthat7_ptmin12.0_Nevent_1734300.root in 74.0260841846 seconds\n",
      "Processed Skimmed_17g6a3_pthat8_ptmin12.0_Nevent_1733709.root in 110.464931011 seconds\n"
     ]
    }
   ],
   "source": [
    "pPbFiles       = ['Skimmed_13def_ptmin12.0_Nevent_1416399.root']\n",
    "pPbHist_04     = getCluster04(pPbFiles)\n",
    "\n",
    "mc_18g7a_files = ['Skimmed_17g6a3_pthat1_ptmin12.0_Nevent_1143901.root','Skimmed_17g6a3_pthat2_ptmin12.0_Nevent_1992307.root','Skimmed_17g6a3_pthat3_ptmin12.0_Nevent_4123564.root',\n",
    "                  'Skimmed_17g6a3_pthat4_ptmin12.0_Nevent_2234506.root','Skimmed_17g6a3_pthat5_ptmin12.0_Nevent_1903308.root','Skimmed_17g6a3_pthat6_ptmin12.0_Nevent_1875403.root',\n",
    "                  'Skimmed_17g6a3_pthat7_ptmin12.0_Nevent_1734300.root','Skimmed_17g6a3_pthat8_ptmin12.0_Nevent_1733709.root']\n",
    "mc_18g7a_04    = getCluster04(mc_18g7a_files)"
   ]
  },
  {
   "cell_type": "code",
   "execution_count": 5,
   "metadata": {},
   "outputs": [],
   "source": [
    "def applyCut(inputDataframe,cut,text=None):\n",
    "    nbeforecut = inputDataframe.shape[0]\n",
    "    cutDataframe = inputDataframe.query(cut)\n",
    "    if text:\n",
    "        print text, cutDataframe.shape[0], ' fraction kept: %2.1f'%(100.0*float(cutDataframe.shape[0])/nbeforecut)\n",
    "    return cutDataframe"
   ]
  },
  {
   "cell_type": "code",
   "execution_count": 6,
   "metadata": {},
   "outputs": [],
   "source": [
    "def applyCuts(fullDataframe,name='default'):  \n",
    "    \n",
    "    fullDataframe.eval('cluster_ecross_over_e = cluster_e_cross/cluster_e',inplace=True)\n",
    "    fullDataframe.eval('cluster_emax_over_e  = cluster_e_max/cluster_e'   ,inplace=True)\n",
    "    fullDataframe.eval('cluster_Lambda_Angle = 1.62*cluster_Lambda_angle' ,inplace=True)\n",
    "    fullDataframe.eval('cluster_iso_its_04_sub = cluster_iso_its_04 + cluster_iso_its_04_ue - ue_estimate_its_const*0.4*0.4*3.1416',inplace=True)\n",
    "\n",
    "    dataframe = fullDataframe\n",
    "    dataframe = applyCut(dataframe,'abs(cluster_eta) < 0.67',      '|eta| < 0.67:')\n",
    "    dataframe = applyCut(dataframe,'cluster_ecross_over_e > 0.03', 'ecross/e > 0.03:')\n",
    "    dataframe = applyCut(dataframe,'cluster_ncell > 2',            'number of cells > 2')\n",
    "    dataframe = applyCut(dataframe,'abs(cluster_tof) < 20',        '|tof| < 20:')\n",
    "    dataframe = applyCut(dataframe,'cluster_nlocal_maxima < 3',    'maxima < 3:')\n",
    "\n",
    "    return dataframe"
   ]
  },
  {
   "cell_type": "code",
   "execution_count": 7,
   "metadata": {},
   "outputs": [
    {
     "name": "stdout",
     "output_type": "stream",
     "text": [
      "Skimmed_18g7a.root\n",
      "|eta| < 0.67: 18731445  fraction kept: 100.0\n",
      "ecross/e > 0.03: 13776925  fraction kept: 73.5\n",
      "number of cells > 2 9242817  fraction kept: 67.1\n",
      "|tof| < 20: 9128352  fraction kept: 98.8\n",
      "maxima < 3: 7748819  fraction kept: 84.9\n",
      "\n",
      "\n",
      "p-Pb data\n",
      "|eta| < 0.67: 3432264  fraction kept: 99.9\n",
      "ecross/e > 0.03: 2389594  fraction kept: 69.6\n",
      "number of cells > 2 1566480  fraction kept: 65.6\n",
      "|tof| < 20: 1529893  fraction kept: 97.7\n",
      "maxima < 3: 1317375  fraction kept: 86.1\n"
     ]
    }
   ],
   "source": [
    "print 'Skimmed_18g7a.root'\n",
    "mcSignal_18g7a_Hists_04 = applyCuts(mc_18g7a_04)\n",
    "print '\\n'\n",
    "print 'p-Pb data'\n",
    "pPbHists_04 = applyCuts(pPbHist_04)"
   ]
  },
  {
   "cell_type": "code",
   "execution_count": 9,
   "metadata": {},
   "outputs": [],
   "source": [
    "pTarray = np.array([ 12.5, 13.5, 14.0, 16.0, 18.0, 20.0, 25.0, 30.0, 40])"
   ]
  },
  {
   "cell_type": "code",
   "execution_count": 36,
   "metadata": {},
   "outputs": [],
   "source": [
    "mcSignal_18g7a_Hists_04_1 = mcSignal_18g7a_Hists_04 .query('cluster_pt > 12.0 and cluster_pt < 13.5')\n",
    "mcSignal_18g7a_Hists_04_2 = mcSignal_18g7a_Hists_04 .query('cluster_pt > 13.5 and cluster_pt < 14.0')\n",
    "mcSignal_18g7a_Hists_04_3 = mcSignal_18g7a_Hists_04 .query('cluster_pt > 14.0 and cluster_pt < 16.0')\n",
    "mcSignal_18g7a_Hists_04_4 = mcSignal_18g7a_Hists_04 .query('cluster_pt > 16.0 and cluster_pt < 18.0')\n",
    "mcSignal_18g7a_Hists_04_5 = mcSignal_18g7a_Hists_04 .query('cluster_pt > 18.0 and cluster_pt < 20.0')\n",
    "mcSignal_18g7a_Hists_04_6 = mcSignal_18g7a_Hists_04 .query('cluster_pt > 20.0 and cluster_pt < 25.0')\n",
    "mcSignal_18g7a_Hists_04_7 = mcSignal_18g7a_Hists_04 .query('cluster_pt > 25.0 and cluster_pt < 30.0')\n",
    "mcSignal_18g7a_Hists_04_8 = mcSignal_18g7a_Hists_04 .query('cluster_pt > 30.0 and cluster_pt < 40.0')\n",
    "\n",
    "pPbHists_04_1 = pPbHists_04.query('cluster_pt > 12.0 and cluster_pt < 13.5')\n",
    "pPbHists_04_2 = pPbHists_04.query('cluster_pt > 13.5 and cluster_pt < 14.0')\n",
    "pPbHists_04_3 = pPbHists_04.query('cluster_pt > 14.0 and cluster_pt < 16.0')\n",
    "pPbHists_04_4 = pPbHists_04.query('cluster_pt > 16.0 and cluster_pt < 18.0')\n",
    "pPbHists_04_5 = pPbHists_04.query('cluster_pt > 18.0 and cluster_pt < 20.0')\n",
    "pPbHists_04_6 = pPbHists_04.query('cluster_pt > 20.0 and cluster_pt < 25.0')\n",
    "pPbHists_04_7 = pPbHists_04.query('cluster_pt > 25.0 and cluster_pt < 30.0')\n",
    "pPbHists_04_8 = pPbHists_04.query('cluster_pt > 30.0 and cluster_pt < 40.0')"
   ]
  },
  {
   "cell_type": "code",
   "execution_count": 37,
   "metadata": {},
   "outputs": [],
   "source": [
    "mcSignal_18g7a_Hists_04_1_1    = mcSignal_18g7a_Hists_04_1.query('cluster_iso_its_04_sub < 1.5')\n",
    "mcSignal_18g7a_Hists_04_5_15_1 = mcSignal_18g7a_Hists_04_1.query('cluster_iso_its_04_sub > 5 and cluster_iso_its_04_sub < 15')\n",
    "\n",
    "mcSignal_18g7a_Hists_04_1_2    = mcSignal_18g7a_Hists_04_2.query('cluster_iso_its_04_sub < 1.5')\n",
    "mcSignal_18g7a_Hists_04_5_15_2 = mcSignal_18g7a_Hists_04_2.query('cluster_iso_its_04_sub > 5 and cluster_iso_its_04_sub < 15')\n",
    "\n",
    "mcSignal_18g7a_Hists_04_1_3    = mcSignal_18g7a_Hists_04_3.query('cluster_iso_its_04_sub < 1.5')\n",
    "mcSignal_18g7a_Hists_04_5_15_3 = mcSignal_18g7a_Hists_04_3.query('cluster_iso_its_04_sub > 5 and cluster_iso_its_04_sub < 15')\n",
    "\n",
    "mcSignal_18g7a_Hists_04_1_4    = mcSignal_18g7a_Hists_04_4.query('cluster_iso_its_04_sub < 1.5')\n",
    "mcSignal_18g7a_Hists_04_5_15_4 = mcSignal_18g7a_Hists_04_4.query('cluster_iso_its_04_sub > 5 and cluster_iso_its_04_sub < 15')\n",
    "\n",
    "mcSignal_18g7a_Hists_04_1_5    = mcSignal_18g7a_Hists_04_5.query('cluster_iso_its_04_sub < 1.5')\n",
    "mcSignal_18g7a_Hists_04_5_15_5 = mcSignal_18g7a_Hists_04_5.query('cluster_iso_its_04_sub > 5 and cluster_iso_its_04_sub < 15')\n",
    "\n",
    "mcSignal_18g7a_Hists_04_1_6    = mcSignal_18g7a_Hists_04_6.query('cluster_iso_its_04_sub < 1.5')\n",
    "mcSignal_18g7a_Hists_04_5_15_6 = mcSignal_18g7a_Hists_04_6.query('cluster_iso_its_04_sub > 5 and cluster_iso_its_04_sub < 15')\n",
    "\n",
    "mcSignal_18g7a_Hists_04_1_7    = mcSignal_18g7a_Hists_04_7.query('cluster_iso_its_04_sub < 1.5')\n",
    "mcSignal_18g7a_Hists_04_5_15_7 = mcSignal_18g7a_Hists_04_7.query('cluster_iso_its_04_sub > 5 and cluster_iso_its_04_sub < 15')\n",
    "\n",
    "mcSignal_18g7a_Hists_04_1_8    = mcSignal_18g7a_Hists_04_8.query('cluster_iso_its_04_sub < 1.5')\n",
    "mcSignal_18g7a_Hists_04_5_15_8 = mcSignal_18g7a_Hists_04_8.query('cluster_iso_its_04_sub > 5 and cluster_iso_its_04_sub < 15')\n",
    "\n",
    "pPbHists_04_1_1    = pPbHists_04_1.query('cluster_iso_its_04_sub < 1.5')\n",
    "pPbHists_04_5_15_1 = pPbHists_04_1.query('cluster_iso_its_04_sub > 5 and cluster_iso_its_04_sub < 15')\n",
    "\n",
    "pPbHists_04_1_2    = pPbHists_04_2.query('cluster_iso_its_04_sub < 1.5')\n",
    "pPbHists_04_5_15_2 = pPbHists_04_2.query('cluster_iso_its_04_sub > 5 and cluster_iso_its_04_sub < 15')\n",
    "\n",
    "pPbHists_04_1_3    = pPbHists_04_3.query('cluster_iso_its_04_sub < 1.5')\n",
    "pPbHists_04_5_15_3 = pPbHists_04_3.query('cluster_iso_its_04_sub > 5 and cluster_iso_its_04_sub < 15')\n",
    "\n",
    "pPbHists_04_1_4    = pPbHists_04_4.query('cluster_iso_its_04_sub < 1.5')\n",
    "pPbHists_04_5_15_4 = pPbHists_04_4.query('cluster_iso_its_04_sub > 5 and cluster_iso_its_04_sub < 15')\n",
    "\n",
    "pPbHists_04_1_5    = pPbHists_04_5.query('cluster_iso_its_04_sub < 1.5')\n",
    "pPbHists_04_5_15_5 = pPbHists_04_5.query('cluster_iso_its_04_sub > 5 and cluster_iso_its_04_sub < 15')\n",
    "\n",
    "pPbHists_04_1_6    = pPbHists_04_6.query('cluster_iso_its_04_sub < 1.5')\n",
    "pPbHists_04_5_15_6 = pPbHists_04_6.query('cluster_iso_its_04_sub > 5 and cluster_iso_its_04_sub < 15')\n",
    "\n",
    "pPbHists_04_1_7    = pPbHists_04_7.query('cluster_iso_its_04_sub < 1.5')\n",
    "pPbHists_04_5_15_7 = pPbHists_04_7.query('cluster_iso_its_04_sub > 5 and cluster_iso_its_04_sub < 15')\n",
    "\n",
    "pPbHists_04_1_8    = pPbHists_04_8.query('cluster_iso_its_04_sub < 1.5')\n",
    "pPbHists_04_5_15_8 = pPbHists_04_8.query('cluster_iso_its_04_sub > 5 and cluster_iso_its_04_sub < 15')"
   ]
  },
  {
   "cell_type": "code",
   "execution_count": 38,
   "metadata": {},
   "outputs": [
    {
     "data": {
      "image/png": "[encoded data removed]",
      "text/plain": [
       "<matplotlib.figure.Figure at 0x2b7c2069dbd0>"
      ]
     },
     "metadata": {},
     "output_type": "display_data"
    }
   ],
   "source": [
    "#####For Lambda variables#####\n",
    "\n",
    "i_1, j_1, _ = plt.hist(mcSignal_18g7a_Hists_04_1_1[\"cluster_Lambda\"],bins=40,range=(0,2),weights=mcSignal_18g7a_Hists_04_1_1['weights'])\n",
    "k_1, l_1, _ = plt.hist(pPbHists_04_1_1[\"cluster_Lambda\"],bins=40,range=(0,2))\n",
    "\n",
    "m_1, n_1, _ = plt.hist(mcSignal_18g7a_Hists_04_5_15_1[\"cluster_Lambda\"],bins=40,range=(0,2),weights=mcSignal_18g7a_Hists_04_5_15_1['weights'])\n",
    "o_1, p_1, _ = plt.hist(pPbHists_04_5_15_1[\"cluster_Lambda\"],bins=40,range=(0,2))\n",
    "\n",
    "##############################\n",
    "\n",
    "i_2, j_2, _ = plt.hist(mcSignal_18g7a_Hists_04_1_2[\"cluster_Lambda\"],bins=40,range=(0,2),weights=mcSignal_18g7a_Hists_04_1_2['weights'])\n",
    "k_2, l_2, _ = plt.hist(pPbHists_04_1_2[\"cluster_Lambda\"],bins=40,range=(0,2))\n",
    "\n",
    "m_2, n_2, _ = plt.hist(mcSignal_18g7a_Hists_04_5_15_2[\"cluster_Lambda\"],bins=40,range=(0,2),weights=mcSignal_18g7a_Hists_04_5_15_2['weights'])\n",
    "o_2, p_2, _ = plt.hist(pPbHists_04_5_15_2[\"cluster_Lambda\"],bins=40,range=(0,2))\n",
    "\n",
    "##############################\n",
    "\n",
    "i_3, j_3, _ = plt.hist(mcSignal_18g7a_Hists_04_1_3[\"cluster_Lambda\"],bins=40,range=(0,2),weights=mcSignal_18g7a_Hists_04_1_3['weights'])\n",
    "k_3, l_3, _ = plt.hist(pPbHists_04_1_3[\"cluster_Lambda\"],bins=40,range=(0,2))\n",
    "\n",
    "m_3, n_3, _ = plt.hist(mcSignal_18g7a_Hists_04_5_15_3[\"cluster_Lambda\"],bins=40,range=(0,2),weights=mcSignal_18g7a_Hists_04_5_15_3['weights'])\n",
    "o_3, p_3, _ = plt.hist(pPbHists_04_5_15_3[\"cluster_Lambda\"],bins=40,range=(0,2))\n",
    "\n",
    "##############################\n",
    "\n",
    "i_4, j_4, _ = plt.hist(mcSignal_18g7a_Hists_04_1_4[\"cluster_Lambda\"],bins=40,range=(0,2),weights=mcSignal_18g7a_Hists_04_1_4['weights'])\n",
    "k_4, l_4, _ = plt.hist(pPbHists_04_1_4[\"cluster_Lambda\"],bins=40,range=(0,2))\n",
    "\n",
    "m_4, n_4, _ = plt.hist(mcSignal_18g7a_Hists_04_5_15_4[\"cluster_Lambda\"],bins=40,range=(0,2),weights=mcSignal_18g7a_Hists_04_5_15_4['weights'])\n",
    "o_4, p_4, _ = plt.hist(pPbHists_04_5_15_4[\"cluster_Lambda\"],bins=40,range=(0,2))\n",
    "\n",
    "##############################\n",
    "\n",
    "i_5, j_5, _ = plt.hist(mcSignal_18g7a_Hists_04_1_5[\"cluster_Lambda\"],bins=40,range=(0,2),weights=mcSignal_18g7a_Hists_04_1_5['weights'])\n",
    "k_5, l_5, _ = plt.hist(pPbHists_04_1_5[\"cluster_Lambda\"],bins=40,range=(0,2))\n",
    "\n",
    "m_5, n_5, _ = plt.hist(mcSignal_18g7a_Hists_04_5_15_5[\"cluster_Lambda\"],bins=40,range=(0,2),weights=mcSignal_18g7a_Hists_04_5_15_5['weights'])\n",
    "o_5, p_5, _ = plt.hist(pPbHists_04_5_15_5[\"cluster_Lambda\"],bins=40,range=(0,2))\n",
    "\n",
    "##############################\n",
    "\n",
    "i_6, j_6, _ = plt.hist(mcSignal_18g7a_Hists_04_1_6[\"cluster_Lambda\"],bins=40,range=(0,2),weights=mcSignal_18g7a_Hists_04_1_6['weights'])\n",
    "k_6, l_6, _ = plt.hist(pPbHists_04_1_6[\"cluster_Lambda\"],bins=40,range=(0,2))\n",
    "\n",
    "m_6, n_6, _ = plt.hist(mcSignal_18g7a_Hists_04_5_15_6[\"cluster_Lambda\"],bins=40,range=(0,2),weights=mcSignal_18g7a_Hists_04_5_15_6['weights'])\n",
    "o_6, p_6, _ = plt.hist(pPbHists_04_5_15_6[\"cluster_Lambda\"],bins=40,range=(0,2))\n",
    "\n",
    "##############################\n",
    "\n",
    "i_7, j_7, _ = plt.hist(mcSignal_18g7a_Hists_04_1_7[\"cluster_Lambda\"],bins=40,range=(0,2),weights=mcSignal_18g7a_Hists_04_1_7['weights'])\n",
    "k_7, l_7, _ = plt.hist(pPbHists_04_1_7[\"cluster_Lambda\"],bins=40,range=(0,2))\n",
    "\n",
    "m_7, n_7, _ = plt.hist(mcSignal_18g7a_Hists_04_5_15_7[\"cluster_Lambda\"],bins=40,range=(0,2),weights=mcSignal_18g7a_Hists_04_5_15_7['weights'])\n",
    "o_7, p_7, _ = plt.hist(pPbHists_04_5_15_7[\"cluster_Lambda\"],bins=40,range=(0,2))\n",
    "\n",
    "##############################\n",
    "\n",
    "i_8, j_8, _ = plt.hist(mcSignal_18g7a_Hists_04_1_8[\"cluster_Lambda\"],bins=40,range=(0,2),weights=mcSignal_18g7a_Hists_04_1_8['weights'])\n",
    "k_8, l_8, _ = plt.hist(pPbHists_04_1_8[\"cluster_Lambda\"],bins=40,range=(0,2))\n",
    "\n",
    "m_8, n_8, _ = plt.hist(mcSignal_18g7a_Hists_04_5_15_8[\"cluster_Lambda\"],bins=40,range=(0,2),weights=mcSignal_18g7a_Hists_04_5_15_8['weights'])\n",
    "o_8, p_8, _ = plt.hist(pPbHists_04_5_15_8[\"cluster_Lambda\"],bins=40,range=(0,2))\n",
    "\n",
    "##############################"
   ]
  },
  {
   "cell_type": "code",
   "execution_count": 39,
   "metadata": {},
   "outputs": [],
   "source": [
    "pPb_ratio_data_1 = np.divide(k_1,o_1)\n",
    "pPb_ratio_MC_1   = np.divide(i_1,m_1)\n",
    "\n",
    "pPb_ratio_dataToMC_1 = np.divide(pPb_ratio_data_1,pPb_ratio_MC_1)\n",
    "\n",
    "##############################\n",
    "\n",
    "pPb_ratio_data_2 = np.divide(k_2,o_2)\n",
    "pPb_ratio_MC_2   = np.divide(i_2,m_2)\n",
    "\n",
    "pPb_ratio_dataToMC_2 = np.divide(pPb_ratio_data_2,pPb_ratio_MC_2)\n",
    "\n",
    "##############################\n",
    "\n",
    "pPb_ratio_data_3 = np.divide(k_3,o_3)\n",
    "pPb_ratio_MC_3   = np.divide(i_3,m_3)\n",
    "\n",
    "pPb_ratio_dataToMC_3 = np.divide(pPb_ratio_data_3,pPb_ratio_MC_3)\n",
    "\n",
    "##############################\n",
    "\n",
    "pPb_ratio_data_4 = np.divide(k_4,o_4)\n",
    "pPb_ratio_MC_4   = np.divide(i_4,m_4)\n",
    "\n",
    "pPb_ratio_dataToMC_4 = np.divide(pPb_ratio_data_4,pPb_ratio_MC_4)\n",
    "\n",
    "##############################\n",
    "\n",
    "pPb_ratio_data_5 = np.divide(k_5,o_5)\n",
    "pPb_ratio_MC_5   = np.divide(i_5,m_5)\n",
    "\n",
    "pPb_ratio_dataToMC_5 = np.divide(pPb_ratio_data_5,pPb_ratio_MC_5)\n",
    "\n",
    "##############################\n",
    "\n",
    "pPb_ratio_data_6 = np.divide(k_6,o_6)\n",
    "pPb_ratio_MC_6   = np.divide(i_6,m_6)\n",
    "\n",
    "pPb_ratio_dataToMC_6 = np.divide(pPb_ratio_data_6,pPb_ratio_MC_6)\n",
    "\n",
    "##############################\n",
    "\n",
    "pPb_ratio_data_7 = np.divide(k_7,o_7)\n",
    "pPb_ratio_MC_7   = np.divide(i_7,m_7)\n",
    "\n",
    "pPb_ratio_dataToMC_7 = np.divide(pPb_ratio_data_7,pPb_ratio_MC_7)\n",
    "\n",
    "##############################\n",
    "\n",
    "pPb_ratio_data_8 = np.divide(k_8,o_8)\n",
    "pPb_ratio_MC_8   = np.divide(i_8,m_8)\n",
    "\n",
    "pPb_ratio_dataToMC_8 = np.divide(pPb_ratio_data_8,pPb_ratio_MC_8)"
   ]
  },
  {
   "cell_type": "code",
   "execution_count": 40,
   "metadata": {},
   "outputs": [],
   "source": [
    "###Fitting###\n",
    "def func(x, m, b): \n",
    "    \n",
    "    return m * x + b\n",
    "\n",
    "popt_1,pcov_1 = curve_fit(func, j_1[10:36], pPb_ratio_dataToMC_1[10:36])\n",
    "\n",
    "popt_2,pcov_2 = curve_fit(func, j_2[10:36], pPb_ratio_dataToMC_2[10:36])\n",
    "\n",
    "popt_3,pcov_3 = curve_fit(func, j_3[10:36], pPb_ratio_dataToMC_3[10:36])\n",
    "\n",
    "popt_4,pcov_4 = curve_fit(func, j_4[10:36], pPb_ratio_dataToMC_4[10:36])\n",
    "\n",
    "popt_5,pcov_5 = curve_fit(func, j_5[10:36], pPb_ratio_dataToMC_5[10:36])\n",
    "\n",
    "popt_6,pcov_6 = curve_fit(func, j_6[10:36], pPb_ratio_dataToMC_6[10:36])\n",
    "\n",
    "popt_7,pcov_7 = curve_fit(func, j_7[10:36], pPb_ratio_dataToMC_7[10:36])\n",
    "\n",
    "popt_8,pcov_8 = curve_fit(func, j_8[10:36], pPb_ratio_dataToMC_8[10:36])"
   ]
  },
  {
   "cell_type": "code",
   "execution_count": 41,
   "metadata": {},
   "outputs": [],
   "source": [
    "perr_1 = np.sqrt(np.diag(pcov_1))\n",
    "\n",
    "perr_2 = np.sqrt(np.diag(pcov_2))\n",
    "\n",
    "perr_3 = np.sqrt(np.diag(pcov_3))\n",
    "\n",
    "perr_4 = np.sqrt(np.diag(pcov_4))\n",
    "\n",
    "perr_5 = np.sqrt(np.diag(pcov_5))\n",
    "\n",
    "perr_6 = np.sqrt(np.diag(pcov_6))\n",
    "\n",
    "perr_7 = np.sqrt(np.diag(pcov_7))\n",
    "\n",
    "perr_8 = np.sqrt(np.diag(pcov_8))"
   ]
  },
  {
   "cell_type": "code",
   "execution_count": 44,
   "metadata": {},
   "outputs": [
    {
     "name": "stdout",
     "output_type": "stream",
     "text": [
      "Slope 12.5-13.5 with err: -0.0306067229943 , 0.0342610229191\n",
      "Slope 13.5-14.0 with err: -0.109260503225 , 0.1184513482\n",
      "Slope 14.0-16.0 with err: 0.237161841812 , 0.0579527892025\n",
      "Slope 16.0-18.0 with err: 0.0327620290709 , 0.0935481035019\n",
      "Slope 18.0-20.0 with err: 0.343213333956 , 0.182826364752\n",
      "Slope 20.0-25.0 with err: 0.38536394239 , 0.145444585902\n",
      "Slope 25.0-30.0 with err: 0.189305506357 , 0.247288257374\n",
      "Slope 30.0-40.0 with err: -0.424129211777 , 0.265051576543\n"
     ]
    }
   ],
   "source": [
    "print 'Slope 12.5-13.5 with err:', popt_1[0], ',' , perr_1[0]\n",
    "print 'Slope 13.5-14.0 with err:', popt_2[0], ',' , perr_2[0]\n",
    "print 'Slope 14.0-16.0 with err:', popt_3[0], ',' , perr_3[0]\n",
    "print 'Slope 16.0-18.0 with err:', popt_4[0], ',' , perr_4[0]\n",
    "print 'Slope 18.0-20.0 with err:', popt_5[0], ',' , perr_5[0]\n",
    "print 'Slope 20.0-25.0 with err:', popt_6[0], ',' , perr_6[0]\n",
    "print 'Slope 25.0-30.0 with err:', popt_7[0], ',' , perr_7[0]\n",
    "print 'Slope 30.0-40.0 with err:', popt_8[0], ',' , perr_8[0]"
   ]
  },
  {
   "cell_type": "code",
   "execution_count": null,
   "metadata": {},
   "outputs": [],
   "source": []
  }
 ],
 "metadata": {
  "kernelspec": {
   "display_name": "PyROOT",
   "language": "python",
   "name": "pyroot"
  },
  "language_info": {
   "codemirror_mode": {
    "name": "ipython",
    "version": 2
   },
   "file_extension": ".py",
   "mimetype": "text/x-python",
   "name": "python",
   "nbconvert_exporter": "python",
   "pygments_lexer": "ipython2",
   "version": "2.7.12"
  }
 },
 "nbformat": 4,
 "nbformat_minor": 2
}
